{
 "cells": [
  {
   "cell_type": "code",
   "execution_count": 73,
   "metadata": {},
   "outputs": [],
   "source": [
    "import torch\n",
    "import torchvision\n",
    "import torch.nn as nn\n",
    "import torch.optim as optim\n",
    "from torch.utils.data import DataLoader\n",
    "import torch.nn.functional as F\n",
    "import torchvision.datasets as datasets\n",
    "import torchvision.transforms as transforms\n",
    "import torch.utils.data as data_utils\n",
    "\n",
    "from PIL import Image\n",
    "import matplotlib.pyplot as plt\n",
    "\n",
    "import numpy as np"
   ]
  },
  {
   "cell_type": "code",
   "execution_count": 74,
   "metadata": {},
   "outputs": [
    {
     "name": "stdout",
     "output_type": "stream",
     "text": [
      "Running on mps:0\n"
     ]
    }
   ],
   "source": [
    "device = 'mps:0' if torch.backends.mps.is_available() else 'cpu'\n",
    "print(f'Running on {device}')"
   ]
  },
  {
   "cell_type": "code",
   "execution_count": 75,
   "metadata": {},
   "outputs": [],
   "source": [
    "batch_size = 64\n",
    "\n",
    "# training + validation dataset\n",
    "training_set_full = datasets.MNIST('dataset/', train=True, transform=transforms.ToTensor(), download=True)\n",
    "\n",
    "# test dataset\n",
    "test_set = datasets.MNIST('dataset/', train=False, transform=transforms.ToTensor(), download=True)"
   ]
  },
  {
   "cell_type": "code",
   "execution_count": 76,
   "metadata": {},
   "outputs": [
    {
     "name": "stdout",
     "output_type": "stream",
     "text": [
      "Data size after splitting to train / test:\n",
      "Training data: 54000, Sample structure: (<class 'torch.Tensor'> torch.Size([1, 28, 28]), <class 'int'>)\n",
      "Test data: 10000, Sample structure: (<class 'torch.Tensor'> torch.Size([1, 28, 28]), <class 'int'>)\n"
     ]
    }
   ],
   "source": [
    "SAMPLE_IMG_ID=0\n",
    "\n",
    "np.random.seed(42)\n",
    "shuffled_idx = np.random.choice(len(training_set_full), len(training_set_full), replace=False)\n",
    "training_set = data_utils.Subset(training_set_full, shuffled_idx[int(len(training_set_full) * 0.1):])\n",
    "testing_set = data_utils.Subset(test_set, shuffled_idx[int(len(test_set) * 0.1):])\n",
    "\n",
    "print('Data size after splitting to train / test:')\n",
    "print(f'Training data: {len(training_set)}, Sample structure: ({type(training_set[SAMPLE_IMG_ID][0])} {training_set[SAMPLE_IMG_ID][0].shape}, {type(training_set[SAMPLE_IMG_ID][1])})')\n",
    "print(f'Test data: {len(test_set)}, Sample structure: ({type(test_set[SAMPLE_IMG_ID][0])} {test_set[SAMPLE_IMG_ID][0].shape}, {type(test_set[SAMPLE_IMG_ID][1])})')\n",
    "\n",
    "training_loader = DataLoader(dataset=training_set, batch_size=batch_size, shuffle=True)\n",
    "test_loader = DataLoader(dataset=test_set, batch_size=batch_size, shuffle=False)"
   ]
  },
  {
   "cell_type": "code",
   "execution_count": 77,
   "metadata": {},
   "outputs": [],
   "source": [
    "IMAGE_SHAPE = training_set_full[0][0].shape[1], training_set_full[0][0].shape[2]\n",
    "classes = np.unique([t[1] for t in training_set_full])\n",
    "NUM_CLASSES = len(classes)"
   ]
  },
  {
   "attachments": {},
   "cell_type": "markdown",
   "metadata": {},
   "source": [
    "class SimpleNeuralNetwork(nn.Module):\n",
    "    def __init__(self, input_size, classes):\n",
    "        super().__init__()\n",
    "        # layer 1\n",
    "        self.fc1 = nn.Linear(input_size, 50)\n",
    "        # layer 2\n",
    "        self.fc2 = nn.Linear(50, classes)\n",
    "\n",
    "    def forward(self, x):\n",
    "        x = F.relu(self.fc1(x))\n",
    "        x = self.fc2(x)\n",
    "\n",
    "        return x"
   ]
  },
  {
   "cell_type": "code",
   "execution_count": 78,
   "metadata": {},
   "outputs": [],
   "source": [
    "class SimpleNeuralNetwork(nn.Module):\n",
    "    def __init__(self, input_size, classes):\n",
    "        super().__init__()\n",
    "        # layer 1\n",
    "        self.fc1 = nn.Linear(input_size, 50)\n",
    "        # layer 2\n",
    "        self.fc2 = nn.Linear(50, 40)\n",
    "        self.fc3 = nn.Linear(40,30)\n",
    "        self.fc4 = nn.Linear(30,20)\n",
    "        self.fc5 = nn.Linear(20,classes)\n",
    "\n",
    "    def forward(self, x):\n",
    "        x = F.sigmoid(self.fc1(x))\n",
    "        x = F.sigmoid(self.fc2(x))\n",
    "        x = F.sigmoid(self.fc3(x))\n",
    "        x = F.sigmoid(self.fc4(x))\n",
    "        x = self.fc5(x)\n",
    "\n",
    "        return x\n",
    "\n",
    "\n",
    "model = SimpleNeuralNetwork(np.product(IMAGE_SHAPE), NUM_CLASSES)\n",
    "model.to(device)\n",
    "optimizer = optim.Adam(model.parameters(), lr=0.001)\n",
    "loss_function = nn.CrossEntropyLoss()"
   ]
  },
  {
   "cell_type": "code",
   "execution_count": 79,
   "metadata": {},
   "outputs": [],
   "source": [
    "def evaluate(model, loss_function, X, y):\n",
    "    # flatten the data from (batch_size, W, H) to (batch_size, W*H) because pytorch models require 1 dimensional samples, and run model.\n",
    "    predictions = model(X.reshape(X.shape[0], -1))  # Module class implements the __call__ method. that's why this class instance is callable although it's not a function.\n",
    "                                                    # its __call__ method simply calls our forward() method.\n",
    "    \n",
    "    loss = loss_function(predictions, y)\n",
    "    predictions = predictions.argmax(dim=1).cpu().numpy()\n",
    "    acc = (predictions == y.cpu().numpy()).mean()\n",
    "    return predictions, acc, loss"
   ]
  },
  {
   "cell_type": "code",
   "execution_count": 80,
   "metadata": {},
   "outputs": [],
   "source": [
    "def perturb(data, labels, eta):\n",
    "    data, labels = data.to(device), labels.to(device)\n",
    "    data.requires_grad = True\n",
    "\n",
    "    predictions, acc, loss = evaluate(model, loss_function, data, labels)\n",
    "    loss.backward()\n",
    "\n",
    "    res = data.grad\n",
    "    res = torch.where(res > 0, 1, -1) #sign function\n",
    "\n",
    "    data = torch.add(data,res * eta)\n",
    "    return data"
   ]
  },
  {
   "cell_type": "code",
   "execution_count": 81,
   "metadata": {},
   "outputs": [],
   "source": [
    "PATH = 'path.pth'\n",
    "torch.save({\n",
    "            'state_dict': model.state_dict(),\n",
    "            'optimizer': optimizer.state_dict(),\n",
    "            }, PATH)\n",
    "ckpt = torch.load(PATH, map_location=device)"
   ]
  },
  {
   "cell_type": "code",
   "execution_count": 82,
   "metadata": {},
   "outputs": [],
   "source": [
    "ckpt = torch.load('path.pth', map_location=device)\n",
    "\n",
    "model.load_state_dict(ckpt['state_dict'])\n",
    "optimizer.load_state_dict(ckpt['optimizer'])"
   ]
  },
  {
   "cell_type": "code",
   "execution_count": 83,
   "metadata": {},
   "outputs": [
    {
     "name": "stdout",
     "output_type": "stream",
     "text": [
      "Epoch 1\n",
      "Training acc: 0.05, Training loss: 2.31\n",
      "Training acc: 0.12, Training loss: 2.30\n",
      "Training acc: 0.15, Training loss: 2.25\n",
      "Training acc: 0.21, Training loss: 2.03\n",
      "Training acc: 0.21, Training loss: 1.85\n",
      "Training acc: 0.27, Training loss: 1.78\n",
      "Training acc: 0.33, Training loss: 1.72\n",
      "Training acc: 0.39, Training loss: 1.65\n",
      "Training acc: 0.38, Training loss: 1.58\n",
      "Training acc: 0.41, Training loss: 1.52\n",
      "Training acc: 0.46, Training loss: 1.45\n",
      "Epoch 2\n",
      "Training acc: 0.66, Training loss: 1.29\n",
      "Training acc: 0.46, Training loss: 1.40\n",
      "Training acc: 0.47, Training loss: 1.34\n",
      "Training acc: 0.51, Training loss: 1.28\n",
      "Training acc: 0.55, Training loss: 1.20\n",
      "Training acc: 0.54, Training loss: 1.17\n",
      "Training acc: 0.62, Training loss: 1.09\n",
      "Training acc: 0.64, Training loss: 1.04\n",
      "Training acc: 0.68, Training loss: 0.96\n",
      "Training acc: 0.70, Training loss: 0.93\n",
      "Training acc: 0.73, Training loss: 0.88\n",
      "Epoch 3\n",
      "Training acc: 0.70, Training loss: 0.87\n",
      "Training acc: 0.76, Training loss: 0.83\n",
      "Training acc: 0.77, Training loss: 0.79\n",
      "Training acc: 0.78, Training loss: 0.74\n",
      "Training acc: 0.79, Training loss: 0.71\n",
      "Training acc: 0.80, Training loss: 0.65\n",
      "Training acc: 0.81, Training loss: 0.62\n",
      "Training acc: 0.81, Training loss: 0.60\n",
      "Training acc: 0.82, Training loss: 0.57\n",
      "Training acc: 0.81, Training loss: 0.56\n",
      "Training acc: 0.84, Training loss: 0.54\n",
      "Epoch 4\n",
      "Training acc: 0.81, Training loss: 0.59\n",
      "Training acc: 0.84, Training loss: 0.50\n",
      "Training acc: 0.85, Training loss: 0.48\n",
      "Training acc: 0.88, Training loss: 0.47\n",
      "Training acc: 0.89, Training loss: 0.46\n",
      "Training acc: 0.89, Training loss: 0.46\n",
      "Training acc: 0.90, Training loss: 0.45\n",
      "Training acc: 0.91, Training loss: 0.42\n",
      "Training acc: 0.91, Training loss: 0.42\n",
      "Training acc: 0.92, Training loss: 0.39\n",
      "Training acc: 0.91, Training loss: 0.39\n",
      "Epoch 5\n",
      "Training acc: 0.91, Training loss: 0.41\n",
      "Training acc: 0.92, Training loss: 0.36\n",
      "Training acc: 0.93, Training loss: 0.31\n",
      "Training acc: 0.93, Training loss: 0.31\n",
      "Training acc: 0.92, Training loss: 0.32\n",
      "Training acc: 0.93, Training loss: 0.30\n",
      "Training acc: 0.93, Training loss: 0.31\n",
      "Training acc: 0.93, Training loss: 0.30\n",
      "Training acc: 0.93, Training loss: 0.29\n",
      "Training acc: 0.93, Training loss: 0.27\n",
      "Training acc: 0.94, Training loss: 0.25\n",
      "Epoch 6\n",
      "Training acc: 0.91, Training loss: 0.25\n",
      "Training acc: 0.94, Training loss: 0.25\n",
      "Training acc: 0.94, Training loss: 0.25\n",
      "Training acc: 0.93, Training loss: 0.26\n",
      "Training acc: 0.94, Training loss: 0.24\n",
      "Training acc: 0.94, Training loss: 0.24\n",
      "Training acc: 0.95, Training loss: 0.23\n",
      "Training acc: 0.94, Training loss: 0.24\n",
      "Training acc: 0.94, Training loss: 0.25\n",
      "Training acc: 0.94, Training loss: 0.24\n",
      "Training acc: 0.94, Training loss: 0.25\n",
      "Epoch 7\n",
      "Training acc: 0.92, Training loss: 0.28\n",
      "Training acc: 0.95, Training loss: 0.20\n",
      "Training acc: 0.94, Training loss: 0.22\n",
      "Training acc: 0.95, Training loss: 0.21\n",
      "Training acc: 0.95, Training loss: 0.20\n",
      "Training acc: 0.94, Training loss: 0.23\n",
      "Training acc: 0.94, Training loss: 0.23\n",
      "Training acc: 0.95, Training loss: 0.22\n",
      "Training acc: 0.95, Training loss: 0.21\n",
      "Training acc: 0.95, Training loss: 0.20\n",
      "Training acc: 0.94, Training loss: 0.22\n",
      "0.01 accuracy change. Early stopping...\n"
     ]
    }
   ],
   "source": [
    "EPOCHS = 7\n",
    "EVALUATION_FREQ = len(training_set) // batch_size // 10  # guarantee 10 evaluations per epoch\n",
    "\n",
    "model.to(device)\n",
    "model.train(mode=True)  # just puts the model in training mode (doesn't actually train)\n",
    "\n",
    "training_acc_lst, training_loss_lst = [], []\n",
    "# validation_acc_lst, validation_loss_lst = [], []\n",
    "epochs_acc = []\n",
    "for epoch in range(EPOCHS):\n",
    "    print(f'Epoch {epoch + 1}')\n",
    "    epoch_acc = []\n",
    "    training_acc_checkpoint, training_loss_checkpoint = [], []\n",
    "    for batch_idx, (data, labels) in enumerate(training_loader):\n",
    "        # cast to device (cpu / gpu) (gpu for faster op). also both need to be on same device.\n",
    "        data, labels = data.to(device), labels.to(device)\n",
    "        \n",
    "        predictions, acc, loss = evaluate(model, loss_function, data, labels)\n",
    "        training_acc_checkpoint.append(acc)\n",
    "        epoch_acc.append(acc)\n",
    "\n",
    "        # loss already calculated in the evaluate() call. just append it\n",
    "        training_loss_checkpoint.append(loss.item())\n",
    "        \n",
    "        # back propagation (calculate the gradient)\n",
    "        loss.backward()\n",
    "\n",
    "        # gradient descent (adjust the weights)\n",
    "        optimizer.step()\n",
    "\n",
    "        optimizer.zero_grad()  # or model.zero_grad() if all the model's parameters are in the optimizer (in our case they are)\n",
    "\n",
    "        # evaluate on validation\n",
    "        if batch_idx % EVALUATION_FREQ == 0:\n",
    "            # average training acc and loss every EVALUATION_FREQ, so our training and validation plots axes will have the same length\n",
    "            training_acc_lst.append(np.mean(training_acc_checkpoint))\n",
    "            training_loss_lst.append(np.mean(training_loss_checkpoint))\n",
    "            # restart checkpoints\n",
    "            training_acc_checkpoint, training_loss_checkpoint = [], []\n",
    "            \n",
    "            print(f'Training acc: {training_acc_lst[-1]:.2f}, Training loss: {training_loss_lst[-1]:.2f}')\n",
    "\n",
    "        #     model.train(mode=True)  # re-enter training mode\n",
    "\n",
    "    # epoch end\n",
    "    epochs_acc.append(np.mean(epoch_acc))\n",
    "\n",
    "    if len(epochs_acc) > 1 and epochs_acc[-1] - epochs_acc[-2] < 0.01:\n",
    "        print(f'{epochs_acc[-1] - epochs_acc[-2]:.2f} accuracy change. Early stopping...')\n",
    "        break\n",
    "\n",
    "junk = model.train(mode=False)  # exit training mode"
   ]
  },
  {
   "cell_type": "code",
   "execution_count": 90,
   "metadata": {},
   "outputs": [
    {
     "name": "stdout",
     "output_type": "stream",
     "text": [
      "Accuracy: 0.87, Loss: 0.46\n"
     ]
    }
   ],
   "source": [
    "model.train(False)  # ensure we're in eval mode\n",
    "\n",
    "test_loss = []\n",
    "test_acc = []\n",
    "test_predictions = []\n",
    "test_actuals = []\n",
    "images_to_print = []\n",
    "i = 0\n",
    "for X,y in test_loader:\n",
    "    X = perturb(X, y, eta=0.007)\n",
    "    with torch.no_grad():\n",
    "        X, y = X.to(device), y.to(device)\n",
    "        predictions = model(X.reshape(X.shape[0], -1))\n",
    "\n",
    "        loss = loss_function(predictions, y)\n",
    "        test_loss.append(loss.item())\n",
    "\n",
    "        if( i < 10 ):\n",
    "            test_predictions.append(predictions.argmax(dim=1).cpu().numpy()[0])\n",
    "            test_actuals.append(y[0])\n",
    "            images_to_print.append(X[0])\n",
    "\n",
    "        test_acc.append((predictions.argmax(dim=1).cpu().numpy() == y.cpu().numpy()).mean())\n",
    "    i = i + 1\n",
    "\n",
    "print(f'Accuracy: {np.mean(test_acc):.2f}, Loss: {np.mean(test_loss):.2f}')"
   ]
  },
  {
   "cell_type": "code",
   "execution_count": 91,
   "metadata": {},
   "outputs": [
    {
     "data": {
      "image/png": "[encoded data removed]",
      "text/plain": [
       "<Figure size 800x500 with 10 Axes>"
      ]
     },
     "metadata": {},
     "output_type": "display_data"
    }
   ],
   "source": [
    "import random\n",
    "\n",
    "random.seed(42)\n",
    "show_imgs_idx = np.random.choice(len(testing_set), DRAW_IMGS, replace=False)\n",
    "DRAW_IMGS = 10\n",
    "fig = plt.figure(figsize=(8, 5))\n",
    "fig.tight_layout()\n",
    "for i, image in enumerate(images_to_print):\n",
    "    plt.subplot(2, DRAW_IMGS // 2, i+1)\n",
    "    plt.title(f'Actual: {test_actuals[i]}\\nPredicted: {test_predictions[i]}')\n",
    "    plt.axis('off')\n",
    "    test_img = image.cpu().detach().numpy()\n",
    "    plt.imshow(test_img.squeeze(0), cmap='gray')  # \"squeeze\" removes the first dimension (1,28,28) => (28,28)\n",
    "     "
   ]
  }
 ],
 "metadata": {
  "kernelspec": {
   "display_name": "Python 3",
   "language": "python",
   "name": "python3"
  },
  "language_info": {
   "codemirror_mode": {
    "name": "ipython",
    "version": 3
   },
   "file_extension": ".py",
   "mimetype": "text/x-python",
   "name": "python",
   "nbconvert_exporter": "python",
   "pygments_lexer": "ipython3",
   "version": "3.12.2"
  },
  "orig_nbformat": 4
 },
 "nbformat": 4,
 "nbformat_minor": 2
}
